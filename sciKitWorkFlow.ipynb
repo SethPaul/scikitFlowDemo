{
 "cells": [
  {
   "cell_type": "markdown",
   "metadata": {},
   "source": [
    "# Titanic Set Revisited with Custom Classes\n",
    "\n",
    "We'll be introducing some new tools to implement what we did last session. Using custom classes (regressors, classifiers, cluster-ers, transformers, feature unions, and pipelines) can be powerful additions to your tool belt."
   ]
  },
  {
   "cell_type": "markdown",
   "metadata": {},
   "source": [
    "This introduction is modeled after Adam Rogers's titanic_finished-ish.py script we worked through last time.\n",
    "\n",
    "We start by pulling in the datasets and importing our libraries. Data available at https://www.kaggle.com/c/titanic/data."
   ]
  },
  {
   "cell_type": "code",
   "execution_count": 1,
   "metadata": {
    "collapsed": true
   },
   "outputs": [],
   "source": [
    "%matplotlib inline\n",
    "import matplotlib.pyplot as plt\n",
    "plt.style.use('ggplot')\n",
    "import sklearn as sk\n",
    "import pandas as pd\n",
    "import numpy as np"
   ]
  },
  {
   "cell_type": "markdown",
   "metadata": {},
   "source": [
    "## Topics\n",
    "### - [Transformers](https://github.com/SethPaul/scikitFlowDemo/blob/master/transformers.ipynb)\n",
    "### - [Estimators](https://github.com/SethPaul/scikitFlowDemo/blob/master/estimators.ipynb#estBegin)\n",
    "### - [Pipelines](https://github.com/SethPaul/scikitFlowDemo/blob/master/pipelines.ipynb#pipeBegin)\n",
    "### - [Grid Search & Cross Validation](https://github.com/SethPaul/scikitFlowDemo/blob/master/gridSearch.ipynb#gridBegin)\n",
    "### - [Ensembles](https://github.com/SethPaul/scikitFlowDemo/blob/master/ensembles.ipynb#ensembleBegin)\n",
    "### - [Feature Unions](https://github.com/SethPaul/scikitFlowDemo/blob/master/featureUnions.ipynb) - to be completed\n"
   ]
  },
  {
   "cell_type": "code",
   "execution_count": null,
   "metadata": {
    "collapsed": true
   },
   "outputs": [],
   "source": []
  }
 ],
 "metadata": {
  "kernelspec": {
   "display_name": "Python 2",
   "language": "python",
   "name": "python2"
  },
  "language_info": {
   "codemirror_mode": {
    "name": "ipython",
    "version": 2
   },
   "file_extension": ".py",
   "mimetype": "text/x-python",
   "name": "python",
   "nbconvert_exporter": "python",
   "pygments_lexer": "ipython2",
   "version": "2.7.11"
  }
 },
 "nbformat": 4,
 "nbformat_minor": 0
}
