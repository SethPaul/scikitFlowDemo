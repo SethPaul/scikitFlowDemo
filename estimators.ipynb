{
 "cells": [
  {
   "cell_type": "markdown",
   "metadata": {},
   "source": [
    "# Custom Classes: Estimators\n",
    "\n",
    "We'll be introducing some new tools to implement what we did last session. Using these custom classes (regressors, classifiers, cluster-ers, transformers, feature unions and pipelines) can be powerful additions to your tool belt."
   ]
  },
  {
   "cell_type": "markdown",
   "metadata": {},
   "source": [
    "This introduction is modeled after Adam Rogers's titanic_finished-ish.py script we worked through last time.\n",
    "\n",
    "We start by pulling in the datasets and importing our libraries. Data available at https://www.kaggle.com/c/titanic/data."
   ]
  },
  {
   "cell_type": "code",
   "execution_count": 2,
   "metadata": {
    "collapsed": false
   },
   "outputs": [],
   "source": [
    "%matplotlib inline\n",
    "import matplotlib.pyplot as plt\n",
    "plt.style.use('ggplot')\n",
    "import sklearn as sk\n",
    "import pandas as pd\n",
    "import numpy as np\n",
    "from scikitDemoHelpers import genericLevelsToDummiesTransformer"
   ]
  },
  {
   "cell_type": "code",
   "execution_count": 3,
   "metadata": {
    "collapsed": false
   },
   "outputs": [],
   "source": [
    "train = pd.read_csv('./data/train.csv')\n",
    "test = pd.read_csv('./data/test.csv')\n",
    "\n",
    "# combining early to apply transformations uniformly\n",
    "combinedSet = pd.concat([train , test], axis = 0)\n",
    "combinedSet = combinedSet.reset_index(drop = True)"
   ]
  },
  {
   "cell_type": "markdown",
   "metadata": {},
   "source": [
    "As a reminder this set includes:\n",
    "\n",
    "| Variable      | Description  |  Values  |\n",
    "| ------------- |:-------------:| -----:|\n",
    "| survived      | Survival | (0 = No; 1 = Yes) |\n",
    "| pclass     | Passenger Class     |   (1 = 1st; 2 = 2nd; 3 = 3rd) |\n",
    "| name  | Name     |    String |\n",
    "| sex | Sex      |    ('male' or 'female') |\n",
    "| age | Age     |    Float 0-80  |\n",
    "| sibsp | Number of Siblings/Spouses Aboard      |    Int |\n",
    "| parch | Number of Parents/Children Aboard      |    Int |\n",
    "| ticket | Ticket Number      |    String  |\n",
    "| fare | Passenger Fare      |    Float |\n",
    "| cabin| Cabin     |    String (e.g. C134) |\n",
    "| embarked| Port of Embarkation      |    ('C' = Cherbourg; 'Q' = Queenstown; 'S' = Southampton) |\n"
   ]
  },
  {
   "cell_type": "markdown",
   "metadata": {},
   "source": [
    "<a id='estBegin'></a>"
   ]
  },
  {
   "cell_type": "markdown",
   "metadata": {},
   "source": [
    "## Estimators\n",
    "We are familiar with estimators like LogisticRegression, NearestNeighbors, and DecisionTreeClassifier.\n",
    "\n",
    "We instantiate an estimator then fit, predict, possibly score."
   ]
  },
  {
   "cell_type": "code",
   "execution_count": 4,
   "metadata": {
    "collapsed": true
   },
   "outputs": [],
   "source": [
    "from sklearn import tree\n",
    "from sklearn import cross_validation\n",
    "from sklearn.metrics import confusion_matrix"
   ]
  },
  {
   "cell_type": "code",
   "execution_count": 5,
   "metadata": {
    "collapsed": false,
    "scrolled": true
   },
   "outputs": [
    {
     "data": {
      "text/html": [
       "<div>\n",
       "<table border=\"1\" class=\"dataframe\">\n",
       "  <thead>\n",
       "    <tr style=\"text-align: right;\">\n",
       "      <th></th>\n",
       "      <th>Pclass</th>\n",
       "      <th>Age</th>\n",
       "      <th>Fare</th>\n",
       "      <th>Survived</th>\n",
       "    </tr>\n",
       "  </thead>\n",
       "  <tbody>\n",
       "    <tr>\n",
       "      <th>1</th>\n",
       "      <td>1</td>\n",
       "      <td>38.0</td>\n",
       "      <td>71.2833</td>\n",
       "      <td>1.0</td>\n",
       "    </tr>\n",
       "    <tr>\n",
       "      <th>2</th>\n",
       "      <td>3</td>\n",
       "      <td>26.0</td>\n",
       "      <td>7.9250</td>\n",
       "      <td>1.0</td>\n",
       "    </tr>\n",
       "    <tr>\n",
       "      <th>3</th>\n",
       "      <td>1</td>\n",
       "      <td>35.0</td>\n",
       "      <td>53.1000</td>\n",
       "      <td>1.0</td>\n",
       "    </tr>\n",
       "    <tr>\n",
       "      <th>4</th>\n",
       "      <td>3</td>\n",
       "      <td>35.0</td>\n",
       "      <td>8.0500</td>\n",
       "      <td>0.0</td>\n",
       "    </tr>\n",
       "    <tr>\n",
       "      <th>5</th>\n",
       "      <td>3</td>\n",
       "      <td>NaN</td>\n",
       "      <td>8.4583</td>\n",
       "      <td>0.0</td>\n",
       "    </tr>\n",
       "    <tr>\n",
       "      <th>6</th>\n",
       "      <td>1</td>\n",
       "      <td>54.0</td>\n",
       "      <td>51.8625</td>\n",
       "      <td>0.0</td>\n",
       "    </tr>\n",
       "    <tr>\n",
       "      <th>7</th>\n",
       "      <td>3</td>\n",
       "      <td>2.0</td>\n",
       "      <td>21.0750</td>\n",
       "      <td>0.0</td>\n",
       "    </tr>\n",
       "    <tr>\n",
       "      <th>8</th>\n",
       "      <td>3</td>\n",
       "      <td>27.0</td>\n",
       "      <td>11.1333</td>\n",
       "      <td>1.0</td>\n",
       "    </tr>\n",
       "    <tr>\n",
       "      <th>9</th>\n",
       "      <td>2</td>\n",
       "      <td>14.0</td>\n",
       "      <td>30.0708</td>\n",
       "      <td>1.0</td>\n",
       "    </tr>\n",
       "    <tr>\n",
       "      <th>10</th>\n",
       "      <td>3</td>\n",
       "      <td>4.0</td>\n",
       "      <td>16.7000</td>\n",
       "      <td>1.0</td>\n",
       "    </tr>\n",
       "  </tbody>\n",
       "</table>\n",
       "</div>"
      ],
      "text/plain": [
       "    Pclass   Age     Fare  Survived\n",
       "1        1  38.0  71.2833       1.0\n",
       "2        3  26.0   7.9250       1.0\n",
       "3        1  35.0  53.1000       1.0\n",
       "4        3  35.0   8.0500       0.0\n",
       "5        3   NaN   8.4583       0.0\n",
       "6        1  54.0  51.8625       0.0\n",
       "7        3   2.0  21.0750       0.0\n",
       "8        3  27.0  11.1333       1.0\n",
       "9        2  14.0  30.0708       1.0\n",
       "10       3   4.0  16.7000       1.0"
      ]
     },
     "execution_count": 5,
     "metadata": {},
     "output_type": "execute_result"
    }
   ],
   "source": [
    "combinedSet.loc[1:10,['Pclass', 'Age', 'Fare', 'Survived']]"
   ]
  },
  {
   "cell_type": "code",
   "execution_count": 12,
   "metadata": {
    "collapsed": false
   },
   "outputs": [],
   "source": [
    "X_tree = combinedSet.loc[:,['Age', 'Fare']]\\\n",
    "        .fillna(0)\n",
    "y_tree = combinedSet['Survived']\\\n",
    "        .fillna(0)"
   ]
  },
  {
   "cell_type": "code",
   "execution_count": 16,
   "metadata": {
    "collapsed": false
   },
   "outputs": [],
   "source": [
    "X_tree_train, X_tree_test, y_tree_train, y_tree_test = \\\n",
    "    cross_validation.train_test_split(X_tree, y_tree, random_state=13)"
   ]
  },
  {
   "cell_type": "code",
   "execution_count": 17,
   "metadata": {
    "collapsed": false
   },
   "outputs": [
    {
     "data": {
      "text/plain": [
       "DecisionTreeClassifier(class_weight=None, criterion='gini', max_depth=None,\n",
       "            max_features=None, max_leaf_nodes=None, min_samples_leaf=1,\n",
       "            min_samples_split=2, min_weight_fraction_leaf=0.0,\n",
       "            presort=False, random_state=None, splitter='best')"
      ]
     },
     "execution_count": 17,
     "metadata": {},
     "output_type": "execute_result"
    }
   ],
   "source": [
    "treeClf= tree.DecisionTreeClassifier()\n",
    "treeClf.fit(X_tree_train, y_tree_train)"
   ]
  },
  {
   "cell_type": "code",
   "execution_count": 18,
   "metadata": {
    "collapsed": false
   },
   "outputs": [],
   "source": [
    "tree_predictions = treeClf.predict(X_tree_test)"
   ]
  },
  {
   "cell_type": "code",
   "execution_count": 20,
   "metadata": {
    "collapsed": false
   },
   "outputs": [
    {
     "name": "stdout",
     "output_type": "stream",
     "text": [
      "Mean Accuracy Score:  0.682926829268\n",
      "Confusion Matrix: \n",
      "     0   1\n",
      "0  200  65\n",
      "1   39  24\n"
     ]
    }
   ],
   "source": [
    "print 'Mean Accuracy Score: ', treeClf.score(X_tree_test, y_tree_test)\n",
    "print 'Confusion Matrix: \\n', \\\n",
    "pd.DataFrame(confusion_matrix(tree_predictions, y_tree_test))"
   ]
  },
  {
   "cell_type": "markdown",
   "metadata": {},
   "source": [
    "Let's create a custom estimator based on the majority survival rate grouped by passenger class, e.g. if most the people in 1st class survived, estimate any test observation from first class survived."
   ]
  },
  {
   "cell_type": "markdown",
   "metadata": {},
   "source": [
    "\n",
    "\n",
    "You will want to include the fit, predict, and score methods:\n",
    "``` python                                                                                                                                        \n",
    "class Estimator(base.BaseEstimator, base.ClassifierMixin):\n",
    "  def __init__(self, ...):\n",
    "  # initialization code\n",
    "  \n",
    "  def fit(self, X, y):\n",
    "  # fit the model ...\n",
    "    return self\n",
    "    \n",
    "  def predict(self, X):\n",
    "    return # prediction\n",
    "    \n",
    "  def score(self, X, y):\n",
    "    return # custom score implementation\n",
    "```"
   ]
  },
  {
   "cell_type": "markdown",
   "metadata": {},
   "source": [
    "### Example to show customization of inputs compared to base estimators:"
   ]
  },
  {
   "cell_type": "code",
   "execution_count": 89,
   "metadata": {
    "collapsed": false,
    "scrolled": true
   },
   "outputs": [],
   "source": [
    "class PClassEstDFonly(sk.base.BaseEstimator, sk.base.ClassifierMixin):\n",
    "    def __init__(self):\n",
    "        # initialization code\n",
    "        self.modelDF=pd.DataFrame()\n",
    "\n",
    "    def fit(self, train_DF):\n",
    "        #fit the model to the majority vote\n",
    "        self.modelDF=train_DF.loc[:,['Pclass', 'Survived']]\\\n",
    "                        .groupby('Pclass')\\\n",
    "                        .mean()\\\n",
    "                        .round()\\\n",
    "                        .astype(int)    \n",
    "        return self\n",
    "\n",
    "    def predict(self, test_DF):\n",
    "        return self.modelDF.loc[test_DF['Pclass'], 'Survived'].values\n",
    "\n",
    "    def score(self, X, y):\n",
    "        # custom score implementation\n",
    "        #F1 score : 2 * precision * recall/(precision + recall)\n",
    "        predictions = self.predict(X)\n",
    "\n",
    "        # true positives\n",
    "        tp = sum(predictions * y) * 1.0\n",
    "        # false positives\n",
    "        fp = sum((1-predictions) * y) * 1.0\n",
    "        # false negatives\n",
    "        fn = sum(predictions * (1-y)) * 1.0\n",
    "        \n",
    "        precision =  tp / (tp + fp)\n",
    "        recall = tp / (tp + fn)\n",
    "        return 2 * precision * recall/(precision + recall)\n"
   ]
  },
  {
   "cell_type": "code",
   "execution_count": 100,
   "metadata": {
    "collapsed": false
   },
   "outputs": [
    {
     "data": {
      "text/plain": [
       "PClassEstDFonly()"
      ]
     },
     "execution_count": 100,
     "metadata": {},
     "output_type": "execute_result"
    }
   ],
   "source": [
    "pClassClfDFonly= PClassEstDFonly()\n",
    "pClassClfDFonly.fit(train[1:700])"
   ]
  },
  {
   "cell_type": "code",
   "execution_count": 101,
   "metadata": {
    "collapsed": false
   },
   "outputs": [
    {
     "data": {
      "text/plain": [
       "0.56896551724137923"
      ]
     },
     "execution_count": 101,
     "metadata": {},
     "output_type": "execute_result"
    }
   ],
   "source": [
    "pClassClfDFonly.score(train[701:], train.Survived[701:])"
   ]
  },
  {
   "cell_type": "markdown",
   "metadata": {},
   "source": [
    "### Example to follow fit(X, y), predict(X) pattern:"
   ]
  },
  {
   "cell_type": "code",
   "execution_count": 93,
   "metadata": {
    "collapsed": true
   },
   "outputs": [],
   "source": [
    "class PClassEst2(sk.base.BaseEstimator, sk.base.ClassifierMixin):\n",
    "    def __init__(self):\n",
    "        # initialization code\n",
    "        self.modelDF=pd.DataFrame()\n",
    "\n",
    "    def fit(self, train_DF, train_labels):\n",
    "        #fit the model to the \n",
    "        \n",
    "        self.modelDF=train_DF.loc[:,['Pclass', 'Survived']]\\\n",
    "                        .groupby('Pclass')\\\n",
    "                        .mean()\\\n",
    "                        .round()\n",
    "    \n",
    "        return self\n",
    "\n",
    "    def predict(self, test_DF):\n",
    "        return self.modelDF.loc[test_DF['Pclass'], 'Survived']\n",
    "\n",
    "    def score(self, X, y):\n",
    "        # custom score implementation\n",
    "        # F1 score : 2 * precision * recall/(precision + recall)\n",
    "        predictions = self.predict(X)\n",
    "        # let's use scikit learn's implementation\n",
    "        return sk.metrics.f1_score(y, predictions)  "
   ]
  },
  {
   "cell_type": "code",
   "execution_count": 97,
   "metadata": {
    "collapsed": false
   },
   "outputs": [
    {
     "data": {
      "text/plain": [
       "PClassEst2()"
      ]
     },
     "execution_count": 97,
     "metadata": {},
     "output_type": "execute_result"
    }
   ],
   "source": [
    "pClassClfDFonly2= PClassEst2()\n",
    "pClassClfDFonly2.fit(train[1:700], train.Survived[1:700])"
   ]
  },
  {
   "cell_type": "code",
   "execution_count": 99,
   "metadata": {
    "collapsed": false
   },
   "outputs": [
    {
     "data": {
      "text/plain": [
       "0.56896551724137923"
      ]
     },
     "execution_count": 99,
     "metadata": {},
     "output_type": "execute_result"
    }
   ],
   "source": [
    "pClassClfDFonly.score(train[701:], train.Survived[701:])"
   ]
  },
  {
   "cell_type": "markdown",
   "metadata": {
    "collapsed": true
   },
   "source": [
    "## On to [Pipelines](./pipelines.ipynb#pipeBegin)"
   ]
  },
  {
   "cell_type": "code",
   "execution_count": null,
   "metadata": {
    "collapsed": true
   },
   "outputs": [],
   "source": []
  }
 ],
 "metadata": {
  "kernelspec": {
   "display_name": "Python 2",
   "language": "python",
   "name": "python2"
  },
  "language_info": {
   "codemirror_mode": {
    "name": "ipython",
    "version": 2
   },
   "file_extension": ".py",
   "mimetype": "text/x-python",
   "name": "python",
   "nbconvert_exporter": "python",
   "pygments_lexer": "ipython2",
   "version": "2.7.11"
  }
 },
 "nbformat": 4,
 "nbformat_minor": 0
}
