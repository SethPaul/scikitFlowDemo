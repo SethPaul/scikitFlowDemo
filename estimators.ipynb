{
 "cells": [
  {
   "cell_type": "markdown",
   "metadata": {},
   "source": [
    "# Custom Classes: [Estimators](#estBegin)\n",
    "\n",
    "We'll be introducing some new tools to implement what we did last session. Using these custom classes (regressors, classifiers, cluster-ers, transformers, feature unions and pipelines) can be powerful additions to your tool belt."
   ]
  },
  {
   "cell_type": "markdown",
   "metadata": {},
   "source": [
    "This introduction is modeled after Adam Rogers's titanic_finished-ish.py script we worked through last time.\n",
    "\n",
    "We start by pulling in the datasets and importing our libraries. Data available at https://www.kaggle.com/c/titanic/data."
   ]
  },
  {
   "cell_type": "code",
   "execution_count": 5,
   "metadata": {
    "collapsed": false
   },
   "outputs": [],
   "source": [
    "%matplotlib inline\n",
    "import matplotlib.pyplot as plt\n",
    "plt.style.use('ggplot')\n",
    "import sklearn as sk\n",
    "import pandas as pd\n",
    "import numpy as np\n",
    "from scikitDemoHelpers import genericLevelsToDummiesTransformer"
   ]
  },
  {
   "cell_type": "code",
   "execution_count": 149,
   "metadata": {
    "collapsed": false
   },
   "outputs": [],
   "source": [
    "train = pd.read_csv('../titanic/data/train.csv')\n",
    "test = pd.read_csv('../titanic/data/test.csv')\n",
    "\n",
    "# combining early to apply transformations uniformly\n",
    "combinedSet = pd.concat([train , test], axis = 0)\n",
    "combinedSet = combinedSet.reset_index(drop = True)"
   ]
  },
  {
   "cell_type": "markdown",
   "metadata": {},
   "source": [
    "As a reminder this set includes:\n",
    "\n",
    "| Variable      | Description  |  Values  |\n",
    "| ------------- |:-------------:| -----:|\n",
    "| survived      | Survival | (0 = No; 1 = Yes) |\n",
    "| pclass     | Passenger Class     |   (1 = 1st; 2 = 2nd; 3 = 3rd) |\n",
    "| name  | Name     |    String |\n",
    "| sex | Sex      |    ('male' or 'female') |\n",
    "| age | Age     |    Float 0-80  |\n",
    "| sibsp | Number of Siblings/Spouses Aboard      |    Int |\n",
    "| parch | Number of Parents/Children Aboard      |    Int |\n",
    "| ticket | Ticket Number      |    String  |\n",
    "| fare | Passenger Fare      |    Float |\n",
    "| cabin| Cabin     |    String (e.g. C134) |\n",
    "| embarked| Port of Embarkation      |    ('C' = Cherbourg; 'Q' = Queenstown; 'S' = Southampton) |\n"
   ]
  },
  {
   "cell_type": "markdown",
   "metadata": {},
   "source": [
    "<a id='estBegin'></a>"
   ]
  },
  {
   "cell_type": "markdown",
   "metadata": {},
   "source": [
    "## Estimators\n",
    "We are familiar with estimators like LogisticRegression, NearestNeighbors, and DecisionTreeClassifier.\n",
    "\n",
    "We instantiate an estimator then fit, predict, possibly score."
   ]
  },
  {
   "cell_type": "code",
   "execution_count": null,
   "metadata": {
    "collapsed": true
   },
   "outputs": [],
   "source": [
    "from sklearn import tree\n",
    "from sklearn import cross_validation\n",
    "from sklearn.metrics import confusion_matrix"
   ]
  },
  {
   "cell_type": "code",
   "execution_count": null,
   "metadata": {
    "collapsed": false,
    "scrolled": true
   },
   "outputs": [],
   "source": [
    "combinedSet.loc[1:10,['Pclass', 'Age', 'Fare', 'Survived']]"
   ]
  },
  {
   "cell_type": "code",
   "execution_count": null,
   "metadata": {
    "collapsed": false
   },
   "outputs": [],
   "source": [
    "X_tree = passengers.loc[:,['Age', 'Fare']]\\\n",
    "        .fillna(0)\n",
    "y_tree = passengers['Survived']\\\n",
    "        .fillna(0)"
   ]
  },
  {
   "cell_type": "code",
   "execution_count": null,
   "metadata": {
    "collapsed": false,
    "scrolled": true
   },
   "outputs": [],
   "source": [
    "X_tree"
   ]
  },
  {
   "cell_type": "code",
   "execution_count": null,
   "metadata": {
    "collapsed": false
   },
   "outputs": [],
   "source": [
    "treeClf= tree.DecisionTreeClassifier()\n",
    "treeClf.fit(X_tree_train, y_tree_train)"
   ]
  },
  {
   "cell_type": "code",
   "execution_count": null,
   "metadata": {
    "collapsed": false
   },
   "outputs": [],
   "source": [
    "tree_predictions = treeClf.predict(X_tree_test)"
   ]
  },
  {
   "cell_type": "code",
   "execution_count": null,
   "metadata": {
    "collapsed": false
   },
   "outputs": [],
   "source": [
    "print 'Mean Accuracy Score: ', treeClf.score(X_tree_test, y_tree_test)\n",
    "print 'Confusion Matrix: \\n', \\\n",
    "pd.DataFrame(confusion_matrix(tree_predictions, y_tree_test))"
   ]
  },
  {
   "cell_type": "markdown",
   "metadata": {},
   "source": [
    "\n",
    "\n",
    "You will want to include the fit, predict, and score methods:\n",
    "``` python                                                                                                                                        \n",
    "class Estimator(base.BaseEstimator, base.ClassifierMixin):\n",
    "  def __init__(self, ...):\n",
    "  # initialization code\n",
    "  \n",
    "  def fit(self, X, y):\n",
    "  # fit the model ...\n",
    "    return self\n",
    "    \n",
    "  def predict(self, X):\n",
    "    return # prediction\n",
    "    \n",
    "  def score(self, X, y):\n",
    "    return # custom score implementation\n",
    "```"
   ]
  },
  {
   "cell_type": "markdown",
   "metadata": {},
   "source": [
    "Let's create a custom estimator based on the majority survival rate grouped by passenger class, e.g. if most the people in 1st class survived, estimate any test observation from first class survived."
   ]
  },
  {
   "cell_type": "markdown",
   "metadata": {},
   "source": [
    "### Example to show customization of inputs compared to base estimators:"
   ]
  },
  {
   "cell_type": "code",
   "execution_count": null,
   "metadata": {
    "collapsed": false,
    "scrolled": true
   },
   "outputs": [],
   "source": [
    "class PClassEstDFonly(sk.base.BaseEstimator, sk.base.ClassifierMixin):\n",
    "    def __init__(self):\n",
    "        # initialization code\n",
    "        self.modelDF=pd.DataFrame()\n",
    "\n",
    "    def fit(self, train_DF):\n",
    "        #fit the model to the majority vote\n",
    "        self.modelDF=train_DF.loc[:,['Pclass', 'Survived']]\\\n",
    "                        .groupby('Pclass')\\\n",
    "                        .mean()\\\n",
    "                        .round()\\\n",
    "                        .astype(int)\n",
    "    \n",
    "        return self\n",
    "\n",
    "    def predict(self, test_DF):\n",
    "        return self.modelDF.loc[test_DF['Pclass'], 'Survived']\n",
    "\n",
    "    def score(self, X, y):\n",
    "        # custom score implementation\n",
    "        return 0\n"
   ]
  },
  {
   "cell_type": "code",
   "execution_count": null,
   "metadata": {
    "collapsed": false
   },
   "outputs": [],
   "source": [
    "pClassClfDFonly= PClassEstDFonly()\n",
    "pClassClfDFonly.fit(passengers[1:700])"
   ]
  },
  {
   "cell_type": "code",
   "execution_count": null,
   "metadata": {
    "collapsed": false,
    "scrolled": true
   },
   "outputs": [],
   "source": [
    "pClassClfDFonly.predict(passengers[701:]).head(10)"
   ]
  },
  {
   "cell_type": "markdown",
   "metadata": {},
   "source": [
    "### Example to follow fit(X, y), predict(X) pattern:"
   ]
  },
  {
   "cell_type": "code",
   "execution_count": null,
   "metadata": {
    "collapsed": true
   },
   "outputs": [],
   "source": [
    "class PClassEst2(sk.base.BaseEstimator, sk.base.ClassifierMixin):\n",
    "    def __init__(self):\n",
    "        # initialization code\n",
    "        self.modelDF=pd.DataFrame()\n",
    "\n",
    "    def fit(self, train_DF, train_labels):\n",
    "        #fit the model to the \n",
    "        \n",
    "        self.modelDF=train_DF.loc[:,['Pclass', 'Survived']]\\\n",
    "                        .groupby('Pclass')\\\n",
    "                        .mean()\\\n",
    "                        .round()\n",
    "    \n",
    "        return self\n",
    "\n",
    "    def predict(self, test_DF):\n",
    "        return self.modelDF.loc[test_DF['Pclass'], 'Survived']\n",
    "\n",
    "    def score(self, X, y):\n",
    "        # custom score implementation\n",
    "        return 0"
   ]
  },
  {
   "cell_type": "code",
   "execution_count": null,
   "metadata": {
    "collapsed": true
   },
   "outputs": [],
   "source": []
  },
  {
   "cell_type": "code",
   "execution_count": null,
   "metadata": {
    "collapsed": false
   },
   "outputs": [],
   "source": [
    "X_tree_train, X_tree_test, y_tree_train, y_tree_test = \\\n",
    "    cross_validation.train_test_split(passengers.drop('Survived',1), passengers.Survived)"
   ]
  },
  {
   "cell_type": "code",
   "execution_count": null,
   "metadata": {
    "collapsed": false,
    "scrolled": true
   },
   "outputs": [],
   "source": [
    "X_tree_train"
   ]
  },
  {
   "cell_type": "code",
   "execution_count": null,
   "metadata": {
    "collapsed": false
   },
   "outputs": [],
   "source": [
    "# Split into training and test sets\n",
    "X_train, X_test, y_train, y_test = \\\n",
    "    cross_validation.train_test_split(\\\n",
    "                                      passengers.drop(['PassengerId','Survived'],1),\n",
    "                                      passengers['Survived'], \\\n",
    "                                      test_size=0.25, \\\n",
    "                                      random_state=13)"
   ]
  },
  {
   "cell_type": "code",
   "execution_count": null,
   "metadata": {
    "collapsed": true
   },
   "outputs": [],
   "source": []
  }
 ],
 "metadata": {
  "kernelspec": {
   "display_name": "Python 2",
   "language": "python",
   "name": "python2"
  },
  "language_info": {
   "codemirror_mode": {
    "name": "ipython",
    "version": 2
   },
   "file_extension": ".py",
   "mimetype": "text/x-python",
   "name": "python",
   "nbconvert_exporter": "python",
   "pygments_lexer": "ipython2",
   "version": "2.7.11"
  }
 },
 "nbformat": 4,
 "nbformat_minor": 0
}
