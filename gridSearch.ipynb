{
 "cells": [
  {
   "cell_type": "markdown",
   "metadata": {},
   "source": [
    "# Sci Kit-Learn Work Flow: Grid Search and Cross Validation \n",
    "[Grid Search](http://scikit-learn.org/stable/modules/grid_search.html) is a powerful tool to optimize parameters. Will we be doing this using a little more complex [cross-validation](http://scikit-learn.org/stable/modules/cross_validation.html)."
   ]
  },
  {
   "cell_type": "code",
   "execution_count": 1,
   "metadata": {
    "collapsed": true
   },
   "outputs": [],
   "source": [
    "import sklearn as sk\n",
    "import pandas as pd\n",
    "import numpy as np"
   ]
  },
  {
   "cell_type": "code",
   "execution_count": 104,
   "metadata": {
    "collapsed": true
   },
   "outputs": [],
   "source": [
    "train = pd.read_csv('./data/train.csv')\n",
    "test = pd.read_csv('./data/test.csv')\n",
    "\n",
    "# combine set to make sure cabin transform includes all\n",
    "combinedSet = pd.concat([train , test], axis=0)\n",
    "combinedSet = combinedSet.reset_index(drop=True)"
   ]
  },
  {
   "cell_type": "code",
   "execution_count": 105,
   "metadata": {
    "collapsed": false,
    "scrolled": false
   },
   "outputs": [
    {
     "data": {
      "text/plain": [
       "Pipeline(steps=[('columnDropper', FunctionTransformer(accept_sparse=False,\n",
       "          func=<function dropColumns at 0x7fd1d6828410>, pass_y=False,\n",
       "          validate=False)), ('treeClassifer', DecisionTreeClassifier(class_weight=None, criterion='gini', max_depth=None,\n",
       "            max_features=10, max_leaf_nodes=None, min_samples_leaf=5,\n",
       "            min_samples_split=10, min_weight_fraction_leaf=0.0,\n",
       "            presort=False, random_state=42, splitter='best'))])"
      ]
     },
     "execution_count": 105,
     "metadata": {},
     "output_type": "execute_result"
    }
   ],
   "source": [
    "from sklearn import pipeline\n",
    "from sklearn import preprocessing\n",
    "from sklearn import tree\n",
    "from scikitDemoHelpers import genericLevelsToDummiesTransformer\n",
    "from scikitDemoHelpers import dropColumns\n",
    "\n",
    "dummyTransformer=genericLevelsToDummiesTransformer(['Cabin','Sex', 'Pclass','Embarked', 'Title'], printFlag=False)\n",
    "dummyTransformer.fit_transform(combinedSet)\n",
    "\n",
    "dropifier = preprocessing.FunctionTransformer(dropColumns, validate=False)\n",
    "treeClfPipe = tree.DecisionTreeClassifier(random_state=42)\n",
    "\n",
    "dummyTreePipeline = pipeline.Pipeline([('columnDropper', dropifier), \n",
    "                                        ('treeClassifer', treeClfPipe)])\n",
    "dummyTreePipeline.set_params(treeClassifer__min_samples_leaf=5,\n",
    "                             treeClassifer__max_features=10, \n",
    "                             treeClassifer__min_samples_split=10)"
   ]
  },
  {
   "cell_type": "markdown",
   "metadata": {},
   "source": [
    "<a id='gridBegin'></a>"
   ]
  },
  {
   "cell_type": "markdown",
   "metadata": {
    "collapsed": true
   },
   "source": [
    "## Cross Validation\n",
    "So far we have considered three sets: \n",
    " - fit set to fit the model on (75% of the full train set in the pipeline notebook) \n",
    " - validation set to test the model on with known labels (25% of the full train set in the pipeline notebook) \n",
    " - test set to predict our unknown labels "
   ]
  },
  {
   "cell_type": "code",
   "execution_count": 209,
   "metadata": {
    "collapsed": true
   },
   "outputs": [],
   "source": [
    "from sklearn import cross_validation\n",
    "X_fit, X_validation, y_fit, y_validation = \\\n",
    "    cross_validation.train_test_split(train.drop('Survived', axis=1), \n",
    "                                      train.Survived, test_size=0.25, random_state=42)"
   ]
  },
  {
   "cell_type": "markdown",
   "metadata": {},
   "source": [
    "If we want to consider more than the single train-validation pair, we can cut up the train set into multiple blocks and rotate which one to validate against. This is called K-folds, where K is the number of \"folds\" we want in the train set."
   ]
  },
  {
   "cell_type": "markdown",
   "metadata": {},
   "source": [
    "For example with 100 obeservations and k=4:\n",
    " - fold 1: 1-25\n",
    " - fold 2: 26-50\n",
    " - fold 3: 51-75\n",
    " - fold 4: 76-100\n",
    "\n",
    "We would then crossvalidate 4 times:\n",
    " - fit on fold 2,3,4; validate with fold 1\n",
    " - fit on fold 1,3,4; validate with fold 2\n",
    " - fit on fold 1,2,4; validate with fold 3\n",
    " - fit on fold 1,2,3; validate with fold 4\n",
    "\n",
    "We would then end up with 4 scores who's average would be better at estimating the model's ability to generalize. "
   ]
  },
  {
   "cell_type": "markdown",
   "metadata": {},
   "source": [
    "A simple example below shows that training and testing our model on different sets even of the same size can produce better or worse scores."
   ]
  },
  {
   "cell_type": "code",
   "execution_count": 107,
   "metadata": {
    "collapsed": false
   },
   "outputs": [
    {
     "name": "stdout",
     "output_type": "stream",
     "text": [
      "[ 0.7877095   0.76536313  0.79213483  0.79775281  0.82485876]\n"
     ]
    }
   ],
   "source": [
    "from sklearn import metrics\n",
    "from sklearn import cross_validation\n",
    "\n",
    "scores =  cross_validation.cross_val_score(dummyTreePipeline, \n",
    "                                           dummyTransformer.transform(train.drop('Survived', \n",
    "                                                      axis=1)), \n",
    "                                           train.Survived,\n",
    "                                          cv = 5,\n",
    "                                          n_jobs=-1)\n",
    "print scores"
   ]
  },
  {
   "cell_type": "markdown",
   "metadata": {},
   "source": [
    "If we want to create the folds similar to [```sklearn.crossvalidation.train_test_split()```](http://scikit-learn.org/stable/modules/generated/sklearn.cross_validation.train_test_split.html#sklearn.cross_validation.train_test_split) before we can use [```sklearn.crossvalidation.KFold()```](http://scikit-learn.org/stable/modules/generated/sklearn.cross_validation.KFold.html#sklearn.cross_validation.KFold) or [```sklearn.crossvalidation.StratifiedKFold()```](http://scikit-learn.org/stable/modules/generated/sklearn.cross_validation.StratifiedKFold.html#sklearn.cross_validation.StratifiedKFold). Stratified K Folds ensures there is an equal ratio of labels across the folds."
   ]
  },
  {
   "cell_type": "code",
   "execution_count": 108,
   "metadata": {
    "collapsed": false
   },
   "outputs": [],
   "source": [
    "skf = cross_validation.StratifiedKFold(train.Survived, n_folds=5, shuffle=True)"
   ]
  },
  {
   "cell_type": "code",
   "execution_count": 109,
   "metadata": {
    "collapsed": false,
    "scrolled": true
   },
   "outputs": [
    {
     "name": "stdout",
     "output_type": "stream",
     "text": [
      "0.821229050279\n",
      "0.765363128492\n",
      "0.859550561798\n",
      "0.814606741573\n",
      "0.785310734463\n"
     ]
    }
   ],
   "source": [
    "for fit_indices, validate_indices in skf:\n",
    "    dummyTreePipeline.fit(dummyTransformer.transform(train.drop('Survived', axis=1)).loc[fit_indices,:], \n",
    "                          train.Survived[fit_indices])\n",
    "    print dummyTreePipeline.score(dummyTransformer.transform(train.drop('Survived', axis=1)).loc[validate_indices,:], train.Survived[validate_indices])"
   ]
  },
  {
   "cell_type": "markdown",
   "metadata": {},
   "source": [
    "Now that we understand the concept of k-folds let's look at gridsearchCV. "
   ]
  },
  {
   "cell_type": "markdown",
   "metadata": {},
   "source": [
    "## Grid Search\n",
    "[Grid Search](http://scikit-learn.org/stable/modules/grid_search.html#grid-search) allows for a search across the parameter space for a model. For the decision tree example this could be considering all the parameters output when we create the classifer:\n",
    "         ```\n",
    "         DecisionTreeClassifier(class_weight=None, criterion='gini', max_depth=None,\n",
    "                max_features=None, max_leaf_nodes=None, min_samples_leaf=1,\n",
    "                min_samples_split=2, min_weight_fraction_leaf=0.0,\n",
    "                presort=False, random_state=42, splitter='best')\n",
    "                ```"
   ]
  },
  {
   "cell_type": "code",
   "execution_count": 162,
   "metadata": {
    "collapsed": false
   },
   "outputs": [
    {
     "data": {
      "text/plain": [
       "{'columnDropper': FunctionTransformer(accept_sparse=False,\n",
       "           func=<function dropColumns at 0x7fd1d6828410>, pass_y=False,\n",
       "           validate=False),\n",
       " 'columnDropper__accept_sparse': False,\n",
       " 'columnDropper__func': <function scikitDemoHelpers.dropColumns>,\n",
       " 'columnDropper__pass_y': False,\n",
       " 'columnDropper__validate': False,\n",
       " 'steps': [('columnDropper', FunctionTransformer(accept_sparse=False,\n",
       "             func=<function dropColumns at 0x7fd1d6828410>, pass_y=False,\n",
       "             validate=False)),\n",
       "  ('treeClassifer',\n",
       "   DecisionTreeClassifier(class_weight=None, criterion='gini', max_depth=None,\n",
       "               max_features=10, max_leaf_nodes=None, min_samples_leaf=5,\n",
       "               min_samples_split=10, min_weight_fraction_leaf=0.0,\n",
       "               presort=False, random_state=42, splitter='best'))],\n",
       " 'treeClassifer': DecisionTreeClassifier(class_weight=None, criterion='gini', max_depth=None,\n",
       "             max_features=10, max_leaf_nodes=None, min_samples_leaf=5,\n",
       "             min_samples_split=10, min_weight_fraction_leaf=0.0,\n",
       "             presort=False, random_state=42, splitter='best'),\n",
       " 'treeClassifer__class_weight': None,\n",
       " 'treeClassifer__criterion': 'gini',\n",
       " 'treeClassifer__max_depth': None,\n",
       " 'treeClassifer__max_features': 10,\n",
       " 'treeClassifer__max_leaf_nodes': None,\n",
       " 'treeClassifer__min_samples_leaf': 5,\n",
       " 'treeClassifer__min_samples_split': 10,\n",
       " 'treeClassifer__min_weight_fraction_leaf': 0.0,\n",
       " 'treeClassifer__presort': False,\n",
       " 'treeClassifer__random_state': 42,\n",
       " 'treeClassifer__splitter': 'best'}"
      ]
     },
     "execution_count": 162,
     "metadata": {},
     "output_type": "execute_result"
    }
   ],
   "source": [
    "dummyTreePipeline.get_params()"
   ]
  },
  {
   "cell_type": "markdown",
   "metadata": {},
   "source": [
    "This search can be over a predefined parameter set"
   ]
  },
  {
   "cell_type": "code",
   "execution_count": 151,
   "metadata": {
    "collapsed": true
   },
   "outputs": [],
   "source": [
    "paramGrid = [\n",
    "    {'treeClassifer__max_features': [1, 5, 12, 25], 'treeClassifer__min_samples_split': [5, 10, 15]}\n",
    "]"
   ]
  },
  {
   "cell_type": "code",
   "execution_count": 152,
   "metadata": {
    "collapsed": false,
    "scrolled": true
   },
   "outputs": [],
   "source": [
    "from sklearn import grid_search\n",
    "dummyGridSearch = grid_search.GridSearchCV(dummyTreePipeline, paramGrid, cv=5)"
   ]
  },
  {
   "cell_type": "code",
   "execution_count": 153,
   "metadata": {
    "collapsed": false
   },
   "outputs": [
    {
     "data": {
      "text/plain": [
       "GridSearchCV(cv=5, error_score='raise',\n",
       "       estimator=Pipeline(steps=[('columnDropper', FunctionTransformer(accept_sparse=False,\n",
       "          func=<function dropColumns at 0x7fd1d6828410>, pass_y=False,\n",
       "          validate=False)), ('treeClassifer', DecisionTreeClassifier(class_weight=None, criterion='gini', max_depth=None,\n",
       "            max_features=10, max_leaf_nodes=None, min_samples_leaf=5,\n",
       "            min_samples_split=10, min_weight_fraction_leaf=0.0,\n",
       "            presort=False, random_state=42, splitter='best'))]),\n",
       "       fit_params={}, iid=True, n_jobs=1,\n",
       "       param_grid=[{'treeClassifer__max_features': [1, 5, 12, 25], 'treeClassifer__min_samples_split': [5, 10, 15]}],\n",
       "       pre_dispatch='2*n_jobs', refit=True, scoring=None, verbose=0)"
      ]
     },
     "execution_count": 153,
     "metadata": {},
     "output_type": "execute_result"
    }
   ],
   "source": [
    "dummyGridSearch.fit(dummyTransformer.transform(train.drop('Survived', axis=1)), train.Survived)"
   ]
  },
  {
   "cell_type": "code",
   "execution_count": 154,
   "metadata": {
    "collapsed": false
   },
   "outputs": [
    {
     "data": {
      "text/plain": [
       "0.81930415263748602"
      ]
     },
     "execution_count": 154,
     "metadata": {},
     "output_type": "execute_result"
    }
   ],
   "source": [
    "dummyGridSearch.best_score_"
   ]
  },
  {
   "cell_type": "code",
   "execution_count": 155,
   "metadata": {
    "collapsed": false
   },
   "outputs": [
    {
     "data": {
      "text/plain": [
       "[mean: 0.69585, std: 0.01797, params: {'treeClassifer__max_features': 1, 'treeClassifer__min_samples_split': 5},\n",
       " mean: 0.69585, std: 0.01797, params: {'treeClassifer__max_features': 1, 'treeClassifer__min_samples_split': 10},\n",
       " mean: 0.70819, std: 0.01578, params: {'treeClassifer__max_features': 1, 'treeClassifer__min_samples_split': 15},\n",
       " mean: 0.78002, std: 0.03347, params: {'treeClassifer__max_features': 5, 'treeClassifer__min_samples_split': 5},\n",
       " mean: 0.78002, std: 0.03347, params: {'treeClassifer__max_features': 5, 'treeClassifer__min_samples_split': 10},\n",
       " mean: 0.78002, std: 0.02249, params: {'treeClassifer__max_features': 5, 'treeClassifer__min_samples_split': 15},\n",
       " mean: 0.81481, std: 0.02347, params: {'treeClassifer__max_features': 12, 'treeClassifer__min_samples_split': 5},\n",
       " mean: 0.81481, std: 0.02347, params: {'treeClassifer__max_features': 12, 'treeClassifer__min_samples_split': 10},\n",
       " mean: 0.80696, std: 0.04500, params: {'treeClassifer__max_features': 12, 'treeClassifer__min_samples_split': 15},\n",
       " mean: 0.81930, std: 0.03142, params: {'treeClassifer__max_features': 25, 'treeClassifer__min_samples_split': 5},\n",
       " mean: 0.81930, std: 0.03142, params: {'treeClassifer__max_features': 25, 'treeClassifer__min_samples_split': 10},\n",
       " mean: 0.81257, std: 0.01554, params: {'treeClassifer__max_features': 25, 'treeClassifer__min_samples_split': 15}]"
      ]
     },
     "execution_count": 155,
     "metadata": {},
     "output_type": "execute_result"
    }
   ],
   "source": [
    "dummyGridSearch.grid_scores_"
   ]
  },
  {
   "cell_type": "code",
   "execution_count": 156,
   "metadata": {
    "collapsed": false
   },
   "outputs": [
    {
     "data": {
      "text/plain": [
       "{'treeClassifer__max_features': 25, 'treeClassifer__min_samples_split': 5}"
      ]
     },
     "execution_count": 156,
     "metadata": {},
     "output_type": "execute_result"
    }
   ],
   "source": [
    "dummyGridSearch.best_params_"
   ]
  },
  {
   "cell_type": "code",
   "execution_count": 157,
   "metadata": {
    "collapsed": false
   },
   "outputs": [
    {
     "data": {
      "text/plain": [
       "Pipeline(steps=[('columnDropper', FunctionTransformer(accept_sparse=False,\n",
       "          func=<function dropColumns at 0x7fd1d6828410>, pass_y=False,\n",
       "          validate=False)), ('treeClassifer', DecisionTreeClassifier(class_weight=None, criterion='gini', max_depth=None,\n",
       "            max_features=25, max_leaf_nodes=None, min_samples_leaf=5,\n",
       "            min_samples_split=5, min_weight_fraction_leaf=0.0,\n",
       "            presort=False, random_state=42, splitter='best'))])"
      ]
     },
     "execution_count": 157,
     "metadata": {},
     "output_type": "execute_result"
    }
   ],
   "source": [
    "dummyGridSearch.best_estimator_"
   ]
  },
  {
   "cell_type": "markdown",
   "metadata": {},
   "source": [
    "Or we can allow it to randomly roam with [```sklearn.grid_search.RandomizedSearchCV```](http://scikit-learn.org/stable/modules/generated/sklearn.grid_search.RandomizedSearchCV.html#sklearn.grid_search.RandomizedSearchCV):"
   ]
  },
  {
   "cell_type": "code",
   "execution_count": 179,
   "metadata": {
    "collapsed": true
   },
   "outputs": [],
   "source": [
    "from scipy.stats import randint as sp_randint\n",
    "paramDists = {\n",
    " 'treeClassifer__max_features': sp_randint(1,25),\n",
    " 'treeClassifer__min_samples_split': sp_randint(1, 30),\n",
    "}"
   ]
  },
  {
   "cell_type": "code",
   "execution_count": 187,
   "metadata": {
    "collapsed": false
   },
   "outputs": [],
   "source": [
    "dummyRandomSearch = grid_search.RandomizedSearchCV(dummyTreePipeline, paramDists, cv=5, n_iter=10, random_state=42)"
   ]
  },
  {
   "cell_type": "code",
   "execution_count": 188,
   "metadata": {
    "collapsed": false,
    "scrolled": true
   },
   "outputs": [
    {
     "data": {
      "text/plain": [
       "RandomizedSearchCV(cv=5, error_score='raise',\n",
       "          estimator=Pipeline(steps=[('columnDropper', FunctionTransformer(accept_sparse=False,\n",
       "          func=<function dropColumns at 0x7fd1d6828410>, pass_y=False,\n",
       "          validate=False)), ('treeClassifer', DecisionTreeClassifier(class_weight=None, criterion='gini', max_depth=None,\n",
       "            max_features=10, max_leaf_nodes=None, min_samples_leaf=5,\n",
       "            min_samples_split=10, min_weight_fraction_leaf=0.0,\n",
       "            presort=False, random_state=42, splitter='best'))]),\n",
       "          fit_params={}, iid=True, n_iter=10, n_jobs=1,\n",
       "          param_distributions={'treeClassifer__max_features': <scipy.stats._distn_infrastructure.rv_frozen object at 0x7fd1d06dc790>, 'treeClassifer__min_samples_split': <scipy.stats._distn_infrastructure.rv_frozen object at 0x7fd1d06ad750>},\n",
       "          pre_dispatch='2*n_jobs', random_state=42, refit=True,\n",
       "          scoring=None, verbose=0)"
      ]
     },
     "execution_count": 188,
     "metadata": {},
     "output_type": "execute_result"
    }
   ],
   "source": [
    "dummyRandomSearch.fit(dummyTransformer.transform(train.drop('Survived', axis=1)), train.Survived)"
   ]
  },
  {
   "cell_type": "code",
   "execution_count": 189,
   "metadata": {
    "collapsed": false
   },
   "outputs": [
    {
     "data": {
      "text/plain": [
       "0.82491582491582494"
      ]
     },
     "execution_count": 189,
     "metadata": {},
     "output_type": "execute_result"
    }
   ],
   "source": [
    "dummyRandomSearch.best_score_"
   ]
  },
  {
   "cell_type": "code",
   "execution_count": 190,
   "metadata": {
    "collapsed": false
   },
   "outputs": [
    {
     "data": {
      "text/plain": [
       "[mean: 0.79349, std: 0.01912, params: {'treeClassifer__max_features': 10, 'treeClassifer__min_samples_split': 2},\n",
       " mean: 0.80808, std: 0.02640, params: {'treeClassifer__max_features': 16, 'treeClassifer__min_samples_split': 22},\n",
       " mean: 0.75982, std: 0.04621, params: {'treeClassifer__max_features': 3, 'treeClassifer__min_samples_split': 4},\n",
       " mean: 0.82492, std: 0.01880, params: {'treeClassifer__max_features': 13, 'treeClassifer__min_samples_split': 15},\n",
       " mean: 0.81145, std: 0.02384, params: {'treeClassifer__max_features': 24, 'treeClassifer__min_samples_split': 11},\n",
       " mean: 0.82043, std: 0.02673, params: {'treeClassifer__max_features': 18, 'treeClassifer__min_samples_split': 14},\n",
       " mean: 0.78227, std: 0.03129, params: {'treeClassifer__max_features': 4, 'treeClassifer__min_samples_split': 29},\n",
       " mean: 0.71268, std: 0.02279, params: {'treeClassifer__max_features': 1, 'treeClassifer__min_samples_split': 27},\n",
       " mean: 0.78900, std: 0.01977, params: {'treeClassifer__max_features': 4, 'treeClassifer__min_samples_split': 19},\n",
       " mean: 0.81033, std: 0.01667, params: {'treeClassifer__max_features': 22, 'treeClassifer__min_samples_split': 4}]"
      ]
     },
     "execution_count": 190,
     "metadata": {},
     "output_type": "execute_result"
    }
   ],
   "source": [
    "dummyRandomSearch.grid_scores_"
   ]
  },
  {
   "cell_type": "code",
   "execution_count": 191,
   "metadata": {
    "collapsed": false
   },
   "outputs": [
    {
     "data": {
      "text/plain": [
       "{'treeClassifer__max_features': 13, 'treeClassifer__min_samples_split': 15}"
      ]
     },
     "execution_count": 191,
     "metadata": {},
     "output_type": "execute_result"
    }
   ],
   "source": [
    "dummyRandomSearch.best_params_"
   ]
  },
  {
   "cell_type": "code",
   "execution_count": 192,
   "metadata": {
    "collapsed": false
   },
   "outputs": [
    {
     "data": {
      "text/plain": [
       "Pipeline(steps=[('columnDropper', FunctionTransformer(accept_sparse=False,\n",
       "          func=<function dropColumns at 0x7fd1d6828410>, pass_y=False,\n",
       "          validate=False)), ('treeClassifer', DecisionTreeClassifier(class_weight=None, criterion='gini', max_depth=None,\n",
       "            max_features=13, max_leaf_nodes=None, min_samples_leaf=5,\n",
       "            min_samples_split=15, min_weight_fraction_leaf=0.0,\n",
       "            presort=False, random_state=42, splitter='best'))])"
      ]
     },
     "execution_count": 192,
     "metadata": {},
     "output_type": "execute_result"
    }
   ],
   "source": [
    "dummyRandomSearch.best_estimator_"
   ]
  },
  {
   "cell_type": "markdown",
   "metadata": {},
   "source": [
    "## On to [Ensembles](./ensembles.ipynb#ensembleBegin)<br>\n",
    "OR<br>\n",
    "we look at a few more parameter combinations:"
   ]
  },
  {
   "cell_type": "code",
   "execution_count": 203,
   "metadata": {
    "collapsed": true
   },
   "outputs": [],
   "source": [
    "paramDists2 = {\n",
    " 'treeClassifer__criterion': [\"gini\", \"entropy\"],\n",
    " 'treeClassifer__max_depth': sp_randint(1,50),\n",
    " 'treeClassifer__max_features': sp_randint(1,25),\n",
    " 'treeClassifer__max_leaf_nodes': sp_randint(2,25),\n",
    " 'treeClassifer__min_samples_leaf': sp_randint(1,25),\n",
    " 'treeClassifer__min_samples_split': sp_randint(1,25),\n",
    " 'treeClassifer__splitter': ['best', 'random']\n",
    "}"
   ]
  },
  {
   "cell_type": "code",
   "execution_count": 204,
   "metadata": {
    "collapsed": false
   },
   "outputs": [],
   "source": [
    "dummyRandomSearch2 = grid_search.RandomizedSearchCV(dummyTreePipeline, paramDists2, cv=5, n_iter=1000, random_state=42)"
   ]
  },
  {
   "cell_type": "code",
   "execution_count": 205,
   "metadata": {
    "collapsed": false
   },
   "outputs": [
    {
     "data": {
      "text/plain": [
       "RandomizedSearchCV(cv=5, error_score='raise',\n",
       "          estimator=Pipeline(steps=[('columnDropper', FunctionTransformer(accept_sparse=False,\n",
       "          func=<function dropColumns at 0x7fd1d6828410>, pass_y=False,\n",
       "          validate=False)), ('treeClassifer', DecisionTreeClassifier(class_weight=None, criterion='gini', max_depth=None,\n",
       "            max_features=10, max_leaf_nodes=None, min_samples_leaf=5,\n",
       "            min_samples_split=10, min_weight_fraction_leaf=0.0,\n",
       "            presort=False, random_state=42, splitter='best'))]),\n",
       "          fit_params={}, iid=True, n_iter=1000, n_jobs=1,\n",
       "          param_distributions={'treeClassifer__max_features': <scipy.stats._distn_infrastructure.rv_frozen object at 0x7fd1d019e1d0>, 'treeClassifer__min_samples_split': <scipy.stats._distn_infrastructure.rv_frozen object at 0x7fd1d01a3ed0>, 'treeClassifer__min_samples_leaf': <scipy.stats._distn_infrastructur...infrastructure.rv_frozen object at 0x7fd1d019e510>, 'treeClassifer__criterion': ['gini', 'entropy']},\n",
       "          pre_dispatch='2*n_jobs', random_state=42, refit=True,\n",
       "          scoring=None, verbose=0)"
      ]
     },
     "execution_count": 205,
     "metadata": {},
     "output_type": "execute_result"
    }
   ],
   "source": [
    "dummyRandomSearch2.fit(dummyTransformer.transform(train.drop('Survived', axis=1)), train.Survived)"
   ]
  },
  {
   "cell_type": "code",
   "execution_count": 206,
   "metadata": {
    "collapsed": false,
    "scrolled": true
   },
   "outputs": [
    {
     "name": "stdout",
     "output_type": "stream",
     "text": [
      "0.832772166105\n",
      "{'treeClassifer__max_features': 20, 'treeClassifer__min_samples_split': 3, 'treeClassifer__min_samples_leaf': 3, 'treeClassifer__max_leaf_nodes': 18, 'treeClassifer__splitter': 'random', 'treeClassifer__max_depth': 5, 'treeClassifer__criterion': 'entropy'}\n"
     ]
    }
   ],
   "source": [
    "print dummyRandomSearch2.best_score_\n",
    "print dummyRandomSearch2.best_params_"
   ]
  },
  {
   "cell_type": "code",
   "execution_count": 214,
   "metadata": {
    "collapsed": true
   },
   "outputs": [],
   "source": [
    "dummyRandomSearch3 = grid_search.RandomizedSearchCV(dummyTreePipeline, paramDists2, cv=5, n_iter=1000, refit=True, random_state=42)"
   ]
  },
  {
   "cell_type": "code",
   "execution_count": 215,
   "metadata": {
    "collapsed": false,
    "scrolled": true
   },
   "outputs": [
    {
     "data": {
      "text/plain": [
       "RandomizedSearchCV(cv=5, error_score='raise',\n",
       "          estimator=Pipeline(steps=[('columnDropper', FunctionTransformer(accept_sparse=False,\n",
       "          func=<function dropColumns at 0x7fd1d6828410>, pass_y=False,\n",
       "          validate=False)), ('treeClassifer', DecisionTreeClassifier(class_weight=None, criterion='gini', max_depth=None,\n",
       "            max_features=10, max_leaf_nodes=None, min_samples_leaf=5,\n",
       "            min_samples_split=10, min_weight_fraction_leaf=0.0,\n",
       "            presort=False, random_state=42, splitter='best'))]),\n",
       "          fit_params={}, iid=True, n_iter=1000, n_jobs=1,\n",
       "          param_distributions={'treeClassifer__max_features': <scipy.stats._distn_infrastructure.rv_frozen object at 0x7fd1d019e1d0>, 'treeClassifer__min_samples_split': <scipy.stats._distn_infrastructure.rv_frozen object at 0x7fd1d01a3ed0>, 'treeClassifer__min_samples_leaf': <scipy.stats._distn_infrastructur...infrastructure.rv_frozen object at 0x7fd1d019e510>, 'treeClassifer__criterion': ['gini', 'entropy']},\n",
       "          pre_dispatch='2*n_jobs', random_state=42, refit=True,\n",
       "          scoring=None, verbose=0)"
      ]
     },
     "execution_count": 215,
     "metadata": {},
     "output_type": "execute_result"
    }
   ],
   "source": [
    "dummyRandomSearch3.fit(dummyTransformer.transform(X_fit), y_fit)"
   ]
  },
  {
   "cell_type": "code",
   "execution_count": 216,
   "metadata": {
    "collapsed": false
   },
   "outputs": [
    {
     "data": {
      "text/plain": [
       "0.8293413173652695"
      ]
     },
     "execution_count": 216,
     "metadata": {},
     "output_type": "execute_result"
    }
   ],
   "source": [
    "dummyRandomSearch3.best_score_"
   ]
  },
  {
   "cell_type": "code",
   "execution_count": 217,
   "metadata": {
    "collapsed": false
   },
   "outputs": [
    {
     "data": {
      "text/plain": [
       "0.80717488789237668"
      ]
     },
     "execution_count": 217,
     "metadata": {},
     "output_type": "execute_result"
    }
   ],
   "source": [
    "dummyRandomSearch3.score(dummyTransformer.transform(X_validation), y_validation)"
   ]
  },
  {
   "cell_type": "code",
   "execution_count": null,
   "metadata": {
    "collapsed": true
   },
   "outputs": [],
   "source": []
  }
 ],
 "metadata": {
  "kernelspec": {
   "display_name": "Python 2",
   "language": "python",
   "name": "python2"
  },
  "language_info": {
   "codemirror_mode": {
    "name": "ipython",
    "version": 2
   },
   "file_extension": ".py",
   "mimetype": "text/x-python",
   "name": "python",
   "nbconvert_exporter": "python",
   "pygments_lexer": "ipython2",
   "version": "2.7.11"
  }
 },
 "nbformat": 4,
 "nbformat_minor": 0
}
