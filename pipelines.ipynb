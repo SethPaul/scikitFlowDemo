{
 "cells": [
  {
   "cell_type": "markdown",
   "metadata": {},
   "source": [
    "# Custom Classes: Pipelines\n",
    "We've covered transformers and estimators. Pipelines are a tool capable of very effectively chaining transformers and estimators."
   ]
  },
  {
   "cell_type": "code",
   "execution_count": null,
   "metadata": {
    "collapsed": true
   },
   "outputs": [],
   "source": [
    "scikit-learn.org/stable/modules/generated/sklearn.pipeline.Pipeline.html"
   ]
  },
  {
   "cell_type": "code",
   "execution_count": null,
   "metadata": {
    "collapsed": true
   },
   "outputs": [],
   "source": [
    "import sklearn as sk\n",
    "import pandas as pd\n",
    "import numpy as np"
   ]
  },
  {
   "cell_type": "code",
   "execution_count": null,
   "metadata": {
    "collapsed": true
   },
   "outputs": [],
   "source": [
    "train = pd.read_csv('./data/train.csv')\n",
    "test = pd.read_csv('./data/test.csv')\n",
    "\n",
    "# combining early to apply transformations uniformly\n",
    "combinedSet = pd.concat([train , test], axis=0)\n",
    "combinedSet = combinedSet.reset_index(drop=True)"
   ]
  },
  {
   "cell_type": "code",
   "execution_count": null,
   "metadata": {
    "collapsed": true
   },
   "outputs": [],
   "source": [
    "As a reminder this set includes:\n",
    "\n",
    "| Variable      | Description  |  Values  |\n",
    "| ------------- |:-------------:| -----:|\n",
    "| survived      | Survival | (0 = No; 1 = Yes) |\n",
    "| pclass     | Passenger Class     |   (1 = 1st; 2 = 2nd; 3 = 3rd) |\n",
    "| name  | Name     |    String |\n",
    "| sex | Sex      |    ('male' or 'female') |\n",
    "| age | Age     |    Float 0-80  |\n",
    "| sibsp | Number of Siblings/Spouses Aboard      |    Int |\n",
    "| parch | Number of Parents/Children Aboard      |    Int |\n",
    "| ticket | Ticket Number      |    String  |\n",
    "| fare | Passenger Fare      |    Float |\n",
    "| cabin| Cabin     |    String (e.g. C134) |\n",
    "| embarked| Port of Embarkation      |    ('C' = Cherbourg; 'Q' = Queenstown; 'S' = Southampton) |\n"
   ]
  },
  {
   "cell_type": "markdown",
   "metadata": {},
   "source": [
    "<a id='pipeBegin'></a>"
   ]
  },
  {
   "cell_type": "markdown",
   "metadata": {},
   "source": [
    "## Pipelines\n",
    "Pipelines allow for a claen implementation of a dataset -> transform/manipulate -> predict -> score -> iterate model."
   ]
  },
  {
   "cell_type": "code",
   "execution_count": null,
   "metadata": {
    "collapsed": true
   },
   "outputs": [],
   "source": []
  }
 ],
 "metadata": {
  "kernelspec": {
   "display_name": "Python 2",
   "language": "python",
   "name": "python2"
  },
  "language_info": {
   "codemirror_mode": {
    "name": "ipython",
    "version": 2
   },
   "file_extension": ".py",
   "mimetype": "text/x-python",
   "name": "python",
   "nbconvert_exporter": "python",
   "pygments_lexer": "ipython2",
   "version": "2.7.11"
  }
 },
 "nbformat": 4,
 "nbformat_minor": 0
}
